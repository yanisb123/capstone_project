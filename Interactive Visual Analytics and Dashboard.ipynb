{
    "cells": [
        {
            "metadata": {},
            "cell_type": "code",
            "source": "!wget \"https://cf-courses-data.s3.us.cloud-object-storage.appdomain.cloud/IBM-DS0321EN-SkillsNetwork/datasets/spacex_launch_dash.csv\"",
            "execution_count": 1,
            "outputs": [
                {
                    "output_type": "stream",
                    "text": "--2021-08-25 17:59:22--  https://cf-courses-data.s3.us.cloud-object-storage.appdomain.cloud/IBM-DS0321EN-SkillsNetwork/datasets/spacex_launch_dash.csv\nResolving cf-courses-data.s3.us.cloud-object-storage.appdomain.cloud (cf-courses-data.s3.us.cloud-object-storage.appdomain.cloud)... 169.63.118.104\nConnecting to cf-courses-data.s3.us.cloud-object-storage.appdomain.cloud (cf-courses-data.s3.us.cloud-object-storage.appdomain.cloud)|169.63.118.104|:443... connected.\nHTTP request sent, awaiting response... 200 OK\nLength: 3033 (3.0K) [text/csv]\nSaving to: \u2018spacex_launch_dash.csv\u2019\n\nspacex_launch_dash. 100%[===================>]   2.96K  --.-KB/s    in 0s      \n\n2021-08-25 17:59:23 (74.9 MB/s) - \u2018spacex_launch_dash.csv\u2019 saved [3033/3033]\n\n",
                    "name": "stdout"
                }
            ]
        },
        {
            "metadata": {},
            "cell_type": "code",
            "source": "! wget \"https://cf-courses-data.s3.us.cloud-object-storage.appdomain.cloud/IBM-DS0321EN-SkillsNetwork/labs/module_3/spacex_dash_app.py\"",
            "execution_count": 2,
            "outputs": [
                {
                    "output_type": "stream",
                    "text": "--2021-08-25 17:59:26--  https://cf-courses-data.s3.us.cloud-object-storage.appdomain.cloud/IBM-DS0321EN-SkillsNetwork/labs/module_3/spacex_dash_app.py\nResolving cf-courses-data.s3.us.cloud-object-storage.appdomain.cloud (cf-courses-data.s3.us.cloud-object-storage.appdomain.cloud)... 169.63.118.104\nConnecting to cf-courses-data.s3.us.cloud-object-storage.appdomain.cloud (cf-courses-data.s3.us.cloud-object-storage.appdomain.cloud)|169.63.118.104|:443... connected.\nHTTP request sent, awaiting response... 200 OK\nLength: 2110 (2.1K) [text/x-python]\nSaving to: \u2018spacex_dash_app.py\u2019\n\nspacex_dash_app.py  100%[===================>]   2.06K  --.-KB/s    in 0s      \n\n2021-08-25 17:59:26 (62.2 MB/s) - \u2018spacex_dash_app.py\u2019 saved [2110/2110]\n\n",
                    "name": "stdout"
                }
            ]
        },
        {
            "metadata": {},
            "cell_type": "code",
            "source": "! pip install dash \n! pip install jupyter_dash",
            "execution_count": 8,
            "outputs": [
                {
                    "output_type": "stream",
                    "text": "Requirement already satisfied: dash in /opt/conda/envs/Python-3.8-main/lib/python3.8/site-packages (1.21.0)\nRequirement already satisfied: dash-core-components==1.17.1 in /opt/conda/envs/Python-3.8-main/lib/python3.8/site-packages (from dash) (1.17.1)\nRequirement already satisfied: dash-html-components==1.1.4 in /opt/conda/envs/Python-3.8-main/lib/python3.8/site-packages (from dash) (1.1.4)\nRequirement already satisfied: plotly in /opt/conda/envs/Python-3.8-main/lib/python3.8/site-packages (from dash) (4.14.3)\nRequirement already satisfied: future in /opt/conda/envs/Python-3.8-main/lib/python3.8/site-packages (from dash) (0.18.2)\nRequirement already satisfied: Flask>=1.0.4 in /opt/conda/envs/Python-3.8-main/lib/python3.8/site-packages (from dash) (2.0.1)\nRequirement already satisfied: dash-table==4.12.0 in /opt/conda/envs/Python-3.8-main/lib/python3.8/site-packages (from dash) (4.12.0)\nRequirement already satisfied: flask-compress in /opt/conda/envs/Python-3.8-main/lib/python3.8/site-packages (from dash) (1.10.1)\nRequirement already satisfied: click>=7.1.2 in /opt/conda/envs/Python-3.8-main/lib/python3.8/site-packages (from Flask>=1.0.4->dash) (7.1.2)\nRequirement already satisfied: Werkzeug>=2.0 in /opt/conda/envs/Python-3.8-main/lib/python3.8/site-packages (from Flask>=1.0.4->dash) (2.0.1)\nRequirement already satisfied: Jinja2>=3.0 in /opt/conda/envs/Python-3.8-main/lib/python3.8/site-packages (from Flask>=1.0.4->dash) (3.0.0)\nRequirement already satisfied: itsdangerous>=2.0 in /opt/conda/envs/Python-3.8-main/lib/python3.8/site-packages (from Flask>=1.0.4->dash) (2.0.1)\nRequirement already satisfied: MarkupSafe>=2.0.0rc2 in /opt/conda/envs/Python-3.8-main/lib/python3.8/site-packages (from Jinja2>=3.0->Flask>=1.0.4->dash) (2.0.1)\nRequirement already satisfied: brotli in /opt/conda/envs/Python-3.8-main/lib/python3.8/site-packages (from flask-compress->dash) (1.0.9)\nRequirement already satisfied: six in /opt/conda/envs/Python-3.8-main/lib/python3.8/site-packages (from plotly->dash) (1.15.0)\nRequirement already satisfied: retrying>=1.3.3 in /opt/conda/envs/Python-3.8-main/lib/python3.8/site-packages (from plotly->dash) (1.3.3)\nCollecting jupyter_dash\n  Downloading jupyter_dash-0.4.0-py3-none-any.whl (20 kB)\nRequirement already satisfied: dash in /opt/conda/envs/Python-3.8-main/lib/python3.8/site-packages (from jupyter_dash) (1.21.0)\nRequirement already satisfied: retrying in /opt/conda/envs/Python-3.8-main/lib/python3.8/site-packages (from jupyter_dash) (1.3.3)\nRequirement already satisfied: ipykernel in /opt/conda/envs/Python-3.8-main/lib/python3.8/site-packages (from jupyter_dash) (5.3.4)\nCollecting ansi2html\n  Downloading ansi2html-1.6.0-py3-none-any.whl (14 kB)\nRequirement already satisfied: flask in /opt/conda/envs/Python-3.8-main/lib/python3.8/site-packages (from jupyter_dash) (2.0.1)\nRequirement already satisfied: requests in /opt/conda/envs/Python-3.8-main/lib/python3.8/site-packages (from jupyter_dash) (2.25.1)\nRequirement already satisfied: ipython in /opt/conda/envs/Python-3.8-main/lib/python3.8/site-packages (from jupyter_dash) (7.22.0)\nRequirement already satisfied: dash-core-components==1.17.1 in /opt/conda/envs/Python-3.8-main/lib/python3.8/site-packages (from dash->jupyter_dash) (1.17.1)\nRequirement already satisfied: dash-html-components==1.1.4 in /opt/conda/envs/Python-3.8-main/lib/python3.8/site-packages (from dash->jupyter_dash) (1.1.4)\nRequirement already satisfied: dash-table==4.12.0 in /opt/conda/envs/Python-3.8-main/lib/python3.8/site-packages (from dash->jupyter_dash) (4.12.0)\nRequirement already satisfied: future in /opt/conda/envs/Python-3.8-main/lib/python3.8/site-packages (from dash->jupyter_dash) (0.18.2)\nRequirement already satisfied: flask-compress in /opt/conda/envs/Python-3.8-main/lib/python3.8/site-packages (from dash->jupyter_dash) (1.10.1)\nRequirement already satisfied: plotly in /opt/conda/envs/Python-3.8-main/lib/python3.8/site-packages (from dash->jupyter_dash) (4.14.3)\nRequirement already satisfied: Werkzeug>=2.0 in /opt/conda/envs/Python-3.8-main/lib/python3.8/site-packages (from flask->jupyter_dash) (2.0.1)\nRequirement already satisfied: click>=7.1.2 in /opt/conda/envs/Python-3.8-main/lib/python3.8/site-packages (from flask->jupyter_dash) (7.1.2)\nRequirement already satisfied: Jinja2>=3.0 in /opt/conda/envs/Python-3.8-main/lib/python3.8/site-packages (from flask->jupyter_dash) (3.0.0)\nRequirement already satisfied: itsdangerous>=2.0 in /opt/conda/envs/Python-3.8-main/lib/python3.8/site-packages (from flask->jupyter_dash) (2.0.1)\nRequirement already satisfied: MarkupSafe>=2.0.0rc2 in /opt/conda/envs/Python-3.8-main/lib/python3.8/site-packages (from Jinja2>=3.0->flask->jupyter_dash) (2.0.1)\nRequirement already satisfied: brotli in /opt/conda/envs/Python-3.8-main/lib/python3.8/site-packages (from flask-compress->dash->jupyter_dash) (1.0.9)\nRequirement already satisfied: jupyter-client in /opt/conda/envs/Python-3.8-main/lib/python3.8/site-packages (from ipykernel->jupyter_dash) (6.1.12)\nRequirement already satisfied: traitlets>=4.1.0 in /opt/conda/envs/Python-3.8-main/lib/python3.8/site-packages (from ipykernel->jupyter_dash) (5.0.5)\nRequirement already satisfied: tornado>=4.2 in /opt/conda/envs/Python-3.8-main/lib/python3.8/site-packages (from ipykernel->jupyter_dash) (6.1)\nRequirement already satisfied: pexpect>4.3 in /opt/conda/envs/Python-3.8-main/lib/python3.8/site-packages (from ipython->jupyter_dash) (4.8.0)\nRequirement already satisfied: decorator in /opt/conda/envs/Python-3.8-main/lib/python3.8/site-packages (from ipython->jupyter_dash) (5.0.9)\nRequirement already satisfied: jedi>=0.16 in /opt/conda/envs/Python-3.8-main/lib/python3.8/site-packages (from ipython->jupyter_dash) (0.17.2)\nRequirement already satisfied: setuptools>=18.5 in /opt/conda/envs/Python-3.8-main/lib/python3.8/site-packages (from ipython->jupyter_dash) (52.0.0.post20210125)\nRequirement already satisfied: prompt-toolkit!=3.0.0,!=3.0.1,<3.1.0,>=2.0.0 in /opt/conda/envs/Python-3.8-main/lib/python3.8/site-packages (from ipython->jupyter_dash) (3.0.17)\nRequirement already satisfied: pygments in /opt/conda/envs/Python-3.8-main/lib/python3.8/site-packages (from ipython->jupyter_dash) (2.9.0)\nRequirement already satisfied: backcall in /opt/conda/envs/Python-3.8-main/lib/python3.8/site-packages (from ipython->jupyter_dash) (0.2.0)\nRequirement already satisfied: pickleshare in /opt/conda/envs/Python-3.8-main/lib/python3.8/site-packages (from ipython->jupyter_dash) (0.7.5)\nRequirement already satisfied: parso<0.8.0,>=0.7.0 in /opt/conda/envs/Python-3.8-main/lib/python3.8/site-packages (from jedi>=0.16->ipython->jupyter_dash) (0.7.0)\nRequirement already satisfied: ptyprocess>=0.5 in /opt/conda/envs/Python-3.8-main/lib/python3.8/site-packages (from pexpect>4.3->ipython->jupyter_dash) (0.7.0)\nRequirement already satisfied: wcwidth in /opt/conda/envs/Python-3.8-main/lib/python3.8/site-packages (from prompt-toolkit!=3.0.0,!=3.0.1,<3.1.0,>=2.0.0->ipython->jupyter_dash) (0.2.5)\nRequirement already satisfied: ipython-genutils in /opt/conda/envs/Python-3.8-main/lib/python3.8/site-packages (from traitlets>=4.1.0->ipykernel->jupyter_dash) (0.2.0)\nRequirement already satisfied: pyzmq>=13 in /opt/conda/envs/Python-3.8-main/lib/python3.8/site-packages (from jupyter-client->ipykernel->jupyter_dash) (20.0.0)\nRequirement already satisfied: python-dateutil>=2.1 in /opt/conda/envs/Python-3.8-main/lib/python3.8/site-packages (from jupyter-client->ipykernel->jupyter_dash) (2.8.1)\nRequirement already satisfied: jupyter-core>=4.6.0 in /opt/conda/envs/Python-3.8-main/lib/python3.8/site-packages (from jupyter-client->ipykernel->jupyter_dash) (4.7.1)\nRequirement already satisfied: six>=1.5 in /opt/conda/envs/Python-3.8-main/lib/python3.8/site-packages (from python-dateutil>=2.1->jupyter-client->ipykernel->jupyter_dash) (1.15.0)\nRequirement already satisfied: chardet<5,>=3.0.2 in /opt/conda/envs/Python-3.8-main/lib/python3.8/site-packages (from requests->jupyter_dash) (3.0.4)\nRequirement already satisfied: urllib3<1.27,>=1.21.1 in /opt/conda/envs/Python-3.8-main/lib/python3.8/site-packages (from requests->jupyter_dash) (1.26.6)\nRequirement already satisfied: certifi>=2017.4.17 in /opt/conda/envs/Python-3.8-main/lib/python3.8/site-packages (from requests->jupyter_dash) (2021.5.30)\nRequirement already satisfied: idna<3,>=2.5 in /opt/conda/envs/Python-3.8-main/lib/python3.8/site-packages (from requests->jupyter_dash) (2.8)\n",
                    "name": "stdout"
                },
                {
                    "output_type": "stream",
                    "text": "Installing collected packages: ansi2html, jupyter-dash\nSuccessfully installed ansi2html-1.6.0 jupyter-dash-0.4.0\n",
                    "name": "stdout"
                }
            ]
        },
        {
            "metadata": {},
            "cell_type": "code",
            "source": "# Import required libraries\nimport pandas as pd\nimport dash\nimport dash_html_components as html\nimport dash_core_components as dcc\nfrom dash.dependencies import Input, Output\nimport plotly.express as px\nfrom jupyter_dash import JupyterDash\nimport numpy as np\n\n\n# Read the airline data into pandas dataframe\nspacex_df = pd.read_csv(\"spacex_launch_dash.csv\")\nmax_payload = spacex_df['Payload Mass (kg)'].max()\nmin_payload = spacex_df['Payload Mass (kg)'].min()\n\n# Create a dash application\napp = JupyterDash(__name__)\n\ndropdown_options= [{\"value\":\"SITE{}\".format(i), \"label\":v} for i,v in enumerate(spacex_df[\"Launch Site\"].unique())]+\\\n                [{\"value\":\"ALL_SITES\", 'label': 'All Sites'}]\nsites_dic = {\"SITE{}\".format(i):v for i,v in enumerate(spacex_df['Launch Site'].unique())}\n\n# Create an app layout\napp.layout = html.Div(children=[\n                                html.H1('SpaceX Launch Records Dashboard',\n                                        style={'textAlign': 'center', 'color': '#503D36',\n                                               'font-size': 40}),\n                                # TASK 1: Add a dropdown list to enable Launch Site selection\n                                # The default select value is for ALL sites\n    \n                                dcc.Dropdown(id='site-dropdown',\n                                            options=dropdown_options,\n                                            placeholder='Select a Launch Site here',\n                                            searchable=True),\n                                html.Br(),\n\n                                # TASK 2: Add a pie chart to show the total successful launches count for all sites\n                                # If a specific launch site was selected, show the Success vs. Failed counts for the site\n                                html.Div(dcc.Graph(id='success-pie-chart')),\n                                html.Br(),\n\n                                html.P(\"Payload range (Kg):\"),\n                                # TASK 3: Add a slider to select payload range\n                                dcc.RangeSlider(id='payload-slider',\n                                                min=0,\n                                                max=10000,\n                                                step=1000,\n                                                marks={str(k):str(k) for k in np.arange(0, 10000, 1000)},\n                                                value=[2000],\n                                               ),\n\n                                # TASK 4: Add a scatter chart to show the correlation between payload and launch success\n                                html.Div(dcc.Graph(id='success-payload-scatter-chart')),\n                                ])\n\n# TASK 2:\n# Add a callback function for `site-dropdown` as input, `success-pie-chart` as output\n@app.callback(\n            Output(component_id='success-pie-chart', component_property=\"figure\"),\n            Input(component_id='site-dropdown', component_property='value'))\ndef callback_dropdown(site):\n    if site == 'ALL_SITES':\n        fig = px.pie(data_frame=spacex_df.groupby(\"Launch Site\")[\"class\"].mean().reset_index(), names='Launch Site', values='class')\n        return fig\n    elif site in sites_dic.keys():\n        data=spacex_df[spacex_df[\"Launch Site\"] == sites_dic[site]][\"class\"].value_counts(normalize=True).reset_index()\n        \n        fig = px.pie(data_frame=data, names='index', values='class')\n        return fig\n    else:\n        fig = px.pie(data_frame=spacex_df.groupby(\"Launch Site\")[\"class\"].mean().reset_index(), names='Launch Site', values='class')\n        return fig\n        \n    \n# TASK 4:\n# Add a callback function for `site-dropdown` and `payload-slider` as inputs, `success-payload-scatter-chart` as output\n@app.callback(\n        Output(component_id='success-payload-scatter-chart', component_property='figure'),\n        Input(component_id='site-dropdown', component_property='value'), Input(component_id=\"payload-slider\", component_property=\"value\")\n    )\ndef update_scatter(site, thresh):\n    if site == 'ALL_SITES':\n        fig = px.scatter(data_frame=spacex_df, x='Payload Mass (kg)', y='Launch Site', color=\"class\")\n        return fig\n    elif site in sites_dic.keys():\n        \n\n        data=spacex_df[(spacex_df[\"Launch Site\"] == sites_dic[site]) &\n                       (spacex_df[\"Payload Mass (kg)\"]<thresh[0])]\n        \n        fig = px.scatter(data_frame=data, x='Payload Mass (kg)', y='class', color=\"Booster Version\")\n        \n        return fig\n    else:\n        fig = px.scatter(data_frame=spacex_df, x='Payload Mass (kg)', y='Launch Site', color=\"class\")\n        return fig\n\n# Run the app\nif __name__ == '__main__':\n    app.run_server(host=\"localhost\", mode=\"inline\")\n",
            "execution_count": 11,
            "outputs": [
                {
                    "output_type": "stream",
                    "text": "/opt/conda/envs/Python-3.8-main/lib/python3.8/site-packages/jupyter_dash/jupyter_app.py:139: UserWarning: The 'environ['werkzeug.server.shutdown']' function is deprecated and will be removed in Werkzeug 2.1.\n  func()\n",
                    "name": "stderr"
                },
                {
                    "output_type": "display_data",
                    "data": {
                        "text/plain": "<IPython.lib.display.IFrame at 0x7f28b0025e80>",
                        "text/html": "\n        <iframe\n            width=\"100%\"\n            height=\"650\"\n            src=\"http://localhost:8050/\"\n            frameborder=\"0\"\n            allowfullscreen\n        ></iframe>\n        "
                    },
                    "metadata": {}
                }
            ]
        },
        {
            "metadata": {},
            "cell_type": "code",
            "source": "",
            "execution_count": null,
            "outputs": []
        }
    ],
    "metadata": {
        "kernelspec": {
            "name": "python3",
            "display_name": "Python 3.8",
            "language": "python"
        },
        "language_info": {
            "name": "python",
            "version": "3.8.10",
            "mimetype": "text/x-python",
            "codemirror_mode": {
                "name": "ipython",
                "version": 3
            },
            "pygments_lexer": "ipython3",
            "nbconvert_exporter": "python",
            "file_extension": ".py"
        }
    },
    "nbformat": 4,
    "nbformat_minor": 4
}